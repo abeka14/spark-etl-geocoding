{
 "cells": [
  {
   "cell_type": "code",
   "execution_count": null,
   "metadata": {
    "id": "RaW5Sm-cnD9f"
   },
   "outputs": [],
   "source": [
    "from pyspark.sql import SparkSession\n",
    "from pyspark.sql.functions import col, when, udf, split\n",
    "from pyspark.sql import functions as F\n",
    "from pyspark.sql.types import StringType\n",
    "import requests, pygeohash, os, configparser\n",
    "\n",
    "spark = SparkSession.builder.appName(\"RestaurantDataETL\").getOrCreate()"
   ]
  },
  {
   "cell_type": "markdown",
   "metadata": {},
   "source": [
    "I kept credentials (paths and API keys) in config file:"
   ]
  },
  {
   "cell_type": "code",
   "execution_count": 4,
   "metadata": {},
   "outputs": [],
   "source": [
    "config = configparser.ConfigParser()\n",
    "config.read('config.ini')\n",
    "api_key = config['api_keys']['opencage_api_key']\n",
    "restaurant_path = config['paths']['restaurant_path']\n",
    "weather_path = config['paths']['weather_path']"
   ]
  },
  {
   "cell_type": "code",
   "execution_count": 27,
   "metadata": {
    "colab": {
     "base_uri": "https://localhost:8080/"
    },
    "id": "dfM8Or7GnIhi",
    "outputId": "226ba02c-867d-4cdf-99a5-1d6277af0d31"
   },
   "outputs": [
    {
     "name": "stdout",
     "output_type": "stream",
     "text": [
      "+------------+------------+----------------+-----------------------+-------+----------+------+--------+\n",
      "|          id|franchise_id|  franchise_name|restaurant_franchise_id|country|      city|   lat|     lng|\n",
      "+------------+------------+----------------+-----------------------+-------+----------+------+--------+\n",
      "|197568495625|          10|The Golden Spoon|                  24784|     US|   Decatur|34.578| -87.021|\n",
      "| 17179869242|          59|     Azalea Cafe|                  10902|     FR|     Paris|48.861|   2.368|\n",
      "|214748364826|          27| The Corner Cafe|                  92040|     US|Rapid City|44.080|-103.250|\n",
      "+------------+------------+----------------+-----------------------+-------+----------+------+--------+\n",
      "only showing top 3 rows\n",
      "\n"
     ]
    }
   ],
   "source": [
    "restaurant_df = spark.read.option(\"header\", True).csv(restaurant_path)\n",
    "restaurant_df.show(3)"
   ]
  },
  {
   "cell_type": "markdown",
   "metadata": {},
   "source": [
    "Next, I created a udf function to get coordinates using opencage api:"
   ]
  },
  {
   "cell_type": "code",
   "execution_count": null,
   "metadata": {
    "id": "_EturVHWnKDb"
   },
   "outputs": [],
   "source": [
    "api_key = config['api_keys']['opencage_api_key']\n",
    "def fetch_coordinates(franchise_name, city, country):\n",
    "    \"\"\"Fetch latitude and longitude using OpenCage API.\"\"\"\n",
    "    if not franchise_name or not city or not country:\n",
    "        return None\n",
    "    query = f\"{franchise_name}, {city}, {country}\"\n",
    "    url = f\"https://api.opencagedata.com/geocode/v1/json?q={query}&key={api_key}\"\n",
    "    try:\n",
    "        response = requests.get(url)\n",
    "        if response.status_code == 200:\n",
    "            results = response.json().get('results', [])\n",
    "            if results:\n",
    "                lat = results[0]['geometry']['lat']\n",
    "                lng = results[0]['geometry']['lng']\n",
    "                return f\"{lat},{lng}\"\n",
    "    except Exception as e:\n",
    "        print(f\"Error fetching coordinates for {query}: {e}\")\n",
    "    return None\n",
    "\n",
    "fetch_coordinates_udf = udf(fetch_coordinates, StringType())"
   ]
  },
  {
   "cell_type": "markdown",
   "metadata": {},
   "source": [
    "Next, I fulfill missing coordinates and convert them into float"
   ]
  },
  {
   "cell_type": "code",
   "execution_count": 29,
   "metadata": {
    "id": "6fKr6mE_nKvP"
   },
   "outputs": [],
   "source": [
    "# Combine latitude and longitude into a single column\n",
    "restaurant_df = restaurant_df.withColumn(\n",
    "    \"lat_lng\",\n",
    "    when(col(\"lat\").isNull() | col(\"lng\").isNull(),\n",
    "         fetch_coordinates_udf(col(\"franchise_name\"), col(\"city\"), col(\"country\")))\n",
    "    .otherwise(None)\n",
    ")"
   ]
  },
  {
   "cell_type": "code",
   "execution_count": 30,
   "metadata": {
    "id": "8Dwz_CIvnNrn"
   },
   "outputs": [],
   "source": [
    "# Split lat_lng into latitude and longitude\n",
    "restaurant_df = restaurant_df.withColumn(\n",
    "    \"lat\",\n",
    "    when(col(\"lat\").isNull(), split(col(\"lat_lng\"), \",\").getItem(0)).otherwise(col(\"lat\"))\n",
    ")\n",
    "\n",
    "restaurant_df = restaurant_df.withColumn(\n",
    "    \"lng\",\n",
    "    when(col(\"lng\").isNull(), split(col(\"lat_lng\"), \",\").getItem(1)).otherwise(col(\"lng\"))\n",
    ")\n",
    "# Drop the temporary lat_lng column\n",
    "restaurant_df = restaurant_df.drop(\"lat_lng\")"
   ]
  },
  {
   "cell_type": "code",
   "execution_count": 31,
   "metadata": {
    "id": "OcNLTb6vnOUP"
   },
   "outputs": [],
   "source": [
    "restaurant_df = restaurant_df.withColumn(\"lat\", col(\"lat\").cast(\"float\"))\n",
    "restaurant_df = restaurant_df.withColumn(\"lng\", col(\"lng\").cast(\"float\"))"
   ]
  },
  {
   "cell_type": "markdown",
   "metadata": {},
   "source": [
    "Then, I create another function to hash coordinates. and added column 'geohash'"
   ]
  },
  {
   "cell_type": "code",
   "execution_count": null,
   "metadata": {
    "id": "wx4DK48znRl3"
   },
   "outputs": [],
   "source": [
    "def generate_geohash(lat, lng):\n",
    "    return pygeohash.encode(lat, lng, precision=4) #dr5r\n",
    "\n",
    "geohash_udf = udf(generate_geohash, StringType())\n",
    "\n",
    "restaurant_df = restaurant_df.withColumn(\"geohash\", geohash_udf(col(\"lat\"), col(\"lng\")))"
   ]
  },
  {
   "cell_type": "code",
   "execution_count": 34,
   "metadata": {
    "colab": {
     "base_uri": "https://localhost:8080/"
    },
    "id": "FN4E_nUN3b0L",
    "outputId": "986b4cb5-7bb2-4302-eb15-fffc19cd5403"
   },
   "outputs": [
    {
     "name": "stdout",
     "output_type": "stream",
     "text": [
      "+------------+------------+----------------+-----------------------+-------+----------+------+-------+-------+\n",
      "|          id|franchise_id|  franchise_name|restaurant_franchise_id|country|      city|   lat|    lng|geohash|\n",
      "+------------+------------+----------------+-----------------------+-------+----------+------+-------+-------+\n",
      "|197568495625|          10|The Golden Spoon|                  24784|     US|   Decatur|34.578|-87.021|   dn4h|\n",
      "| 17179869242|          59|     Azalea Cafe|                  10902|     FR|     Paris|48.861|  2.368|   u09t|\n",
      "|214748364826|          27| The Corner Cafe|                  92040|     US|Rapid City| 44.08|-103.25|   9xyd|\n",
      "+------------+------------+----------------+-----------------------+-------+----------+------+-------+-------+\n",
      "only showing top 3 rows\n",
      "\n"
     ]
    }
   ],
   "source": [
    "restaurant_df.show(3)"
   ]
  },
  {
   "cell_type": "markdown",
   "metadata": {},
   "source": [
    "Next step is to create dataframe for weather data"
   ]
  },
  {
   "cell_type": "code",
   "execution_count": null,
   "metadata": {
    "colab": {
     "base_uri": "https://localhost:8080/",
     "height": 35
    },
    "id": "ayaykhAkvUG2",
    "outputId": "c75aa61b-d557-4fb2-f035-7f38beae0466"
   },
   "outputs": [
    {
     "data": {
      "application/vnd.google.colaboratory.intrinsic+json": {
       "type": "string"
      },
      "text/plain": [
       "'/content/weather/year=2016/month=10/day=29/part-00018-44bd3411-fbe4-4e16-b667-7ec0fc3ad489.c000.snappy.parquet'"
      ]
     },
     "execution_count": 35,
     "metadata": {},
     "output_type": "execute_result"
    }
   ],
   "source": [
    "# here i used a function to get paths of all parquet files:\n",
    "def find_parquet_files(directory):\n",
    "    files = []\n",
    "    for root, _, filenames in os.walk(directory):\n",
    "        for filename in filenames:\n",
    "            if filename.endswith(\".parquet\"):\n",
    "                files.append(os.path.join(root, filename))\n",
    "    return files\n",
    "\n",
    "parquet_files = find_parquet_files(weather_path)\n",
    "parquet_files[0]"
   ]
  },
  {
   "cell_type": "code",
   "execution_count": 36,
   "metadata": {
    "colab": {
     "base_uri": "https://localhost:8080/"
    },
    "id": "uCjAv00dBBAI",
    "outputId": "6e248734-2fcd-4285-fd3d-fc7f4ce66c4e"
   },
   "outputs": [
    {
     "data": {
      "text/plain": [
       "93"
      ]
     },
     "execution_count": 36,
     "metadata": {},
     "output_type": "execute_result"
    }
   ],
   "source": [
    "len(parquet_files)"
   ]
  },
  {
   "cell_type": "code",
   "execution_count": null,
   "metadata": {
    "colab": {
     "base_uri": "https://localhost:8080/"
    },
    "id": "TKrSl5KPvfbS",
    "outputId": "974c1216-6849-4a7c-b857-4f17d5c573b0"
   },
   "outputs": [
    {
     "name": "stdout",
     "output_type": "stream",
     "text": [
      "+--------+-------+----------+----------+----------+\n",
      "|     lng|    lat|avg_tmpr_f|avg_tmpr_c| wthr_date|\n",
      "+--------+-------+----------+----------+----------+\n",
      "|-111.202|18.7496|      82.7|      28.2|2016-10-12|\n",
      "|-111.155| 18.755|      82.7|      28.2|2016-10-12|\n",
      "|-111.107|18.7604|      82.7|      28.2|2016-10-12|\n",
      "|-111.059|18.7657|      82.5|      28.1|2016-10-12|\n",
      "|-111.012|18.7711|      82.5|      28.1|2016-10-12|\n",
      "+--------+-------+----------+----------+----------+\n",
      "only showing top 5 rows\n",
      "\n"
     ]
    }
   ],
   "source": [
    "weather_df = spark.read.format(\"parquet\").load(parquet_files)\n",
    "weather_df.show(5)"
   ]
  },
  {
   "cell_type": "code",
   "execution_count": 38,
   "metadata": {
    "colab": {
     "base_uri": "https://localhost:8080/"
    },
    "id": "Dn_O1I_SwzYm",
    "outputId": "4d37cb65-8cb2-4bf2-f4c7-39f06c5d55f3"
   },
   "outputs": [
    {
     "data": {
      "text/plain": [
       "37333145"
      ]
     },
     "execution_count": 38,
     "metadata": {},
     "output_type": "execute_result"
    }
   ],
   "source": [
    "weather_df.count()"
   ]
  },
  {
   "cell_type": "code",
   "execution_count": 39,
   "metadata": {
    "id": "HkPgaX6WnTfD"
   },
   "outputs": [],
   "source": [
    "weather_df = weather_df.withColumn(\"geohash\", geohash_udf(col(\"lat\"), col(\"lng\")))"
   ]
  },
  {
   "cell_type": "markdown",
   "metadata": {},
   "source": [
    "It's more efficient to aggregate by geohash before joining with restaurant data, as this reduces the amount of data processed"
   ]
  },
  {
   "cell_type": "code",
   "execution_count": null,
   "metadata": {
    "id": "2D9ZstyyGRLZ"
   },
   "outputs": [],
   "source": [
    "weather_aggregated_df = (\n",
    "    weather_df.groupBy(\"geohash\", \"wthr_date\")\n",
    "    .agg(\n",
    "        F.avg(\"avg_tmpr_f\").alias(\"avg_tmpr_f\"),\n",
    "        F.avg(\"avg_tmpr_c\").alias(\"avg_tmpr_c\"),\n",
    "        F.first(\"lng\").alias(\"lng\"),\n",
    "        F.first(\"lat\").alias(\"lat\")\n",
    "    )\n",
    ")"
   ]
  },
  {
   "cell_type": "code",
   "execution_count": 44,
   "metadata": {
    "colab": {
     "base_uri": "https://localhost:8080/"
    },
    "id": "9JMgmiSTGt3X",
    "outputId": "55eded12-914b-4ec7-a72c-cbdf1cfe0a55"
   },
   "outputs": [
    {
     "name": "stdout",
     "output_type": "stream",
     "text": [
      "+-------+----------+-----------------+------------------+--------+-------+\n",
      "|geohash| wthr_date|       avg_tmpr_f|        avg_tmpr_c|     lng|    lat|\n",
      "+-------+----------+-----------------+------------------+--------+-------+\n",
      "|   9eqz|2016-10-12|75.34444444444445|24.074074074074073|-102.966|19.5366|\n",
      "|   9gej|2016-10-12|82.63333333333334| 28.14444444444445|-96.9953|20.6083|\n",
      "|   d7qb|2016-10-12|81.21034482758618|27.341379310344827| -69.236|18.2997|\n",
      "|   d7d9|2016-10-12|80.71428571428574|27.064285714285713|-75.1868|19.8997|\n",
      "|   d7mz|2016-10-12|77.85714285714288|25.467857142857135|-70.6554|19.5211|\n",
      "+-------+----------+-----------------+------------------+--------+-------+\n",
      "only showing top 5 rows\n",
      "\n"
     ]
    }
   ],
   "source": [
    "weather_aggregated_df.show(5)"
   ]
  },
  {
   "cell_type": "markdown",
   "metadata": {
    "id": "LFDvWWoNQ1cq"
   },
   "source": [
    "Since it was written to keep all columns from both dataset, lat and lng of both tables are kept."
   ]
  },
  {
   "cell_type": "code",
   "execution_count": 45,
   "metadata": {
    "colab": {
     "base_uri": "https://localhost:8080/"
    },
    "id": "ppjrFX2knYSZ",
    "outputId": "4d585368-ca89-432b-c09c-b68c0ca6a72f"
   },
   "outputs": [
    {
     "name": "stdout",
     "output_type": "stream",
     "text": [
      "+-------+------------+------------+----------------+-----------------------+-------+-------+------+-------+----------+-----------------+------------------+--------+-------+\n",
      "|geohash|          id|franchise_id|  franchise_name|restaurant_franchise_id|country|   city|   lat|    lng| wthr_date|       avg_tmpr_f|        avg_tmpr_c|     lng|    lat|\n",
      "+-------+------------+------------+----------------+-----------------------+-------+-------+------+-------+----------+-----------------+------------------+--------+-------+\n",
      "|   dn4h|197568495625|          10|The Golden Spoon|                  24784|     US|Decatur|34.578|-87.021|2016-10-03|68.58076923076922|20.319230769230767|-87.0083|34.6264|\n",
      "|   dn4h|197568495625|          10|The Golden Spoon|                  24784|     US|Decatur|34.578|-87.021|2016-10-06|72.58846153846153| 22.54615384615385|-87.0083|34.6264|\n",
      "|   dn4h|197568495625|          10|The Golden Spoon|                  24784|     US|Decatur|34.578|-87.021|2016-10-13| 68.3423076923077|20.196153846153848|-87.0083|34.6264|\n",
      "|   dn4h|197568495625|          10|The Golden Spoon|                  24784|     US|Decatur|34.578|-87.021|2016-10-16|71.84615384615384|22.146153846153847|-87.0083|34.6264|\n",
      "|   dn4h|197568495625|          10|The Golden Spoon|                  24784|     US|Decatur|34.578|-87.021|2016-10-18|76.08461538461536|24.492307692307698|-87.0083|34.6264|\n",
      "+-------+------------+------------+----------------+-----------------------+-------+-------+------+-------+----------+-----------------+------------------+--------+-------+\n",
      "only showing top 5 rows\n",
      "\n"
     ]
    }
   ],
   "source": [
    "joined_df = restaurant_df.join(weather_aggregated_df, on=\"geohash\", how=\"left\")\n",
    "joined_df.show(5)"
   ]
  },
  {
   "cell_type": "markdown",
   "metadata": {},
   "source": [
    "Finally, unit tests are conducted:"
   ]
  },
  {
   "cell_type": "code",
   "execution_count": 1,
   "metadata": {},
   "outputs": [],
   "source": [
    "import unittest\n",
    "from unittest.mock import patch, MagicMock"
   ]
  },
  {
   "cell_type": "code",
   "execution_count": null,
   "metadata": {},
   "outputs": [
    {
     "name": "stderr",
     "output_type": "stream",
     "text": [
      "test_fetch_coordinates_invalid_status (__main__.TestFetchCoordinates.test_fetch_coordinates_invalid_status) ... ok\n",
      "test_fetch_coordinates_missing_input (__main__.TestFetchCoordinates.test_fetch_coordinates_missing_input) ... ok\n",
      "test_fetch_coordinates_no_results (__main__.TestFetchCoordinates.test_fetch_coordinates_no_results) ... ok\n",
      "test_fetch_coordinates_success (__main__.TestFetchCoordinates.test_fetch_coordinates_success) ... ok\n",
      "\n",
      "----------------------------------------------------------------------\n",
      "Ran 4 tests in 0.009s\n",
      "\n",
      "OK\n"
     ]
    },
    {
     "data": {
      "text/plain": [
       "<unittest.main.TestProgram at 0x2727a6de750>"
      ]
     },
     "execution_count": 7,
     "metadata": {},
     "output_type": "execute_result"
    }
   ],
   "source": [
    "class TestFetchCoordinates(unittest.TestCase):\n",
    "\n",
    "    @patch('requests.get')\n",
    "    def test_fetch_coordinates_success(self, mock_get):\n",
    "        mock_response = MagicMock()\n",
    "        mock_response.status_code = 200\n",
    "        mock_response.json.return_value = {\n",
    "            'results': [{\n",
    "                'geometry': {'lat': 43.25667, 'lng': 76.92861}\n",
    "            }]\n",
    "        }\n",
    "        mock_get.return_value = mock_response\n",
    "\n",
    "        franchise_name = \"Pizza Hut\"\n",
    "        city = \"Almaty\"\n",
    "        country = \"Kazakhstan\"\n",
    "        result = fetch_coordinates(franchise_name, city, country)\n",
    "        \n",
    "        self.assertEqual(result, \"43.25667,76.92861\")\n",
    "        mock_get.assert_called_once_with(\n",
    "            \"https://api.opencagedata.com/geocode/v1/json?q=Pizza Hut, Almaty, Kazakhstan&key=\"\n",
    "            + config['api_keys']['opencage_api_key']\n",
    "        )\n",
    "\n",
    "    @patch('requests.get')\n",
    "    def test_fetch_coordinates_no_results(self, mock_get):\n",
    "        mock_response = MagicMock()\n",
    "        mock_response.status_code = 200\n",
    "        mock_response.json.return_value = {'results': []}\n",
    "        mock_get.return_value = mock_response\n",
    "\n",
    "        franchise_name = \"Nonexistent Place\"\n",
    "        city = \"Unknown City\"\n",
    "        country = \"Unknown Country\"\n",
    "        result = fetch_coordinates(franchise_name, city, country)\n",
    "        \n",
    "        self.assertIsNone(result)\n",
    "\n",
    "    @patch('requests.get')\n",
    "    def test_fetch_coordinates_invalid_status(self, mock_get):\n",
    "        mock_response = MagicMock()\n",
    "        mock_response.status_code = 500\n",
    "        mock_get.return_value = mock_response\n",
    "\n",
    "        franchise_name = \"Pizza Hut\"\n",
    "        city = \"Almaty\"\n",
    "        country = \"Kazakhstan\"\n",
    "        result = fetch_coordinates(franchise_name, city, country)\n",
    "        \n",
    "        self.assertIsNone(result)\n",
    "\n",
    "    def test_fetch_coordinates_missing_input(self):\n",
    "        self.assertIsNone(fetch_coordinates(\"\", \"City\", \"Country\"))\n",
    "        self.assertIsNone(fetch_coordinates(\"Franchise\", \"\", \"Country\"))\n",
    "        self.assertIsNone(fetch_coordinates(\"Franchise\", \"City\", \"\"))\n",
    "\n",
    "unittest.main(argv=[''], verbosity=2, exit=False)"
   ]
  }
 ],
 "metadata": {
  "colab": {
   "name": "Добро пожаловать в Colaboratory!",
   "provenance": []
  },
  "kernelspec": {
   "display_name": "env",
   "language": "python",
   "name": "python3"
  },
  "language_info": {
   "codemirror_mode": {
    "name": "ipython",
    "version": 3
   },
   "file_extension": ".py",
   "mimetype": "text/x-python",
   "name": "python",
   "nbconvert_exporter": "python",
   "pygments_lexer": "ipython3",
   "version": "3.11.9"
  }
 },
 "nbformat": 4,
 "nbformat_minor": 0
}
